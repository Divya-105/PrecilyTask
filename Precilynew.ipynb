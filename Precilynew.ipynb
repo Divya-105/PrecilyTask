{
  "cells": [
    {
      "cell_type": "markdown",
      "metadata": {
        "id": "view-in-github",
        "colab_type": "text"
      },
      "source": [
        "<a href=\"https://colab.research.google.com/github/Divya-105/text-similarity-scorer/blob/main/Precilynew.ipynb\" target=\"_parent\"><img src=\"https://colab.research.google.com/assets/colab-badge.svg\" alt=\"Open In Colab\"/></a>"
      ]
    },
    {
      "cell_type": "markdown",
      "metadata": {
        "id": "fpq27nYZkT_I"
      },
      "source": [
        "# Paragraph Similarity"
      ]
    },
    {
      "cell_type": "markdown",
      "metadata": {
        "id": "flr4HZ5JkT_O"
      },
      "source": [
        "### Importing the dataset and libraries "
      ]
    },
    {
      "cell_type": "code",
      "execution_count": null,
      "metadata": {
        "colab": {
          "base_uri": "https://localhost:8080/",
          "height": 206
        },
        "id": "A5SJ38hfKSTd",
        "outputId": "6d60f9f4-a36d-4ee7-d473-7cbe8540f037"
      },
      "outputs": [
        {
          "data": {
            "text/html": [
              "<div>\n",
              "<style scoped>\n",
              "    .dataframe tbody tr th:only-of-type {\n",
              "        vertical-align: middle;\n",
              "    }\n",
              "\n",
              "    .dataframe tbody tr th {\n",
              "        vertical-align: top;\n",
              "    }\n",
              "\n",
              "    .dataframe thead th {\n",
              "        text-align: right;\n",
              "    }\n",
              "</style>\n",
              "<table border=\"1\" class=\"dataframe\">\n",
              "  <thead>\n",
              "    <tr style=\"text-align: right;\">\n",
              "      <th></th>\n",
              "      <th>text1</th>\n",
              "      <th>text2</th>\n",
              "    </tr>\n",
              "  </thead>\n",
              "  <tbody>\n",
              "    <tr>\n",
              "      <th>0</th>\n",
              "      <td>broadband challenges tv viewing the number of ...</td>\n",
              "      <td>gardener wins double in glasgow britain s jaso...</td>\n",
              "    </tr>\n",
              "    <tr>\n",
              "      <th>1</th>\n",
              "      <td>rap boss arrested over drug find rap mogul mar...</td>\n",
              "      <td>amnesty chief laments war failure the lack of ...</td>\n",
              "    </tr>\n",
              "    <tr>\n",
              "      <th>2</th>\n",
              "      <td>player burn-out worries robinson england coach...</td>\n",
              "      <td>hanks greeted at wintry premiere hollywood sta...</td>\n",
              "    </tr>\n",
              "    <tr>\n",
              "      <th>3</th>\n",
              "      <td>hearts of oak 3-2 cotonsport hearts of oak set...</td>\n",
              "      <td>redford s vision of sundance despite sporting ...</td>\n",
              "    </tr>\n",
              "    <tr>\n",
              "      <th>4</th>\n",
              "      <td>sir paul rocks super bowl crowds sir paul mcca...</td>\n",
              "      <td>mauresmo opens with victory in la amelie maure...</td>\n",
              "    </tr>\n",
              "  </tbody>\n",
              "</table>\n",
              "</div>"
            ],
            "text/plain": [
              "                                               text1  \\\n",
              "0  broadband challenges tv viewing the number of ...   \n",
              "1  rap boss arrested over drug find rap mogul mar...   \n",
              "2  player burn-out worries robinson england coach...   \n",
              "3  hearts of oak 3-2 cotonsport hearts of oak set...   \n",
              "4  sir paul rocks super bowl crowds sir paul mcca...   \n",
              "\n",
              "                                               text2  \n",
              "0  gardener wins double in glasgow britain s jaso...  \n",
              "1  amnesty chief laments war failure the lack of ...  \n",
              "2  hanks greeted at wintry premiere hollywood sta...  \n",
              "3  redford s vision of sundance despite sporting ...  \n",
              "4  mauresmo opens with victory in la amelie maure...  "
            ]
          },
          "execution_count": 1,
          "metadata": {},
          "output_type": "execute_result"
        }
      ],
      "source": [
        "import pandas as pd\n",
        "import numpy as np\n",
        "data = pd.read_csv('Precily_Text_Similarity.csv')\n",
        "data.head()"
      ]
    },
    {
      "cell_type": "code",
      "execution_count": null,
      "metadata": {
        "colab": {
          "base_uri": "https://localhost:8080/"
        },
        "id": "NSJGQ6IHNGuK",
        "outputId": "7d4c4722-037c-4691-9239-e4144aad5f42"
      },
      "outputs": [
        {
          "data": {
            "text/plain": [
              "3000"
            ]
          },
          "execution_count": 2,
          "metadata": {},
          "output_type": "execute_result"
        }
      ],
      "source": [
        "len(data)"
      ]
    },
    {
      "cell_type": "markdown",
      "metadata": {
        "id": "SpRnXVwtkT_R"
      },
      "source": [
        "### Working"
      ]
    },
    {
      "cell_type": "markdown",
      "metadata": {
        "id": "6RBYnHXlkT_R"
      },
      "source": [
        "Here we are using bag of words model\n",
        "In order to determine the similarity between two text paragraphs,each of them is converted into a vector of words and their counts. The matrix formed is known as Document Term Matrix (DTM) where each row is a document and each column represents the term/token in the document.\n",
        "While creating the DTM, some pre-processing is done, i.e, all words are converted to lower case and punctuation is removed.This matrix is generated using count vectorizer.\n",
        "Then we calculate cosine similarity between the two paragraphs.\n",
        "The less is the value of cosine distance more is the similarity."
      ]
    },
    {
      "cell_type": "markdown",
      "metadata": {
        "id": "o07QHq6EkT_S"
      },
      "source": [
        "### DTM for 1st row of paragraphs"
      ]
    },
    {
      "cell_type": "markdown",
      "source": [
        "Importing count vectorizer and cosine offered by sklearn\n"
      ],
      "metadata": {
        "id": "pfGTjKJemXhn"
      }
    },
    {
      "cell_type": "code",
      "source": [
        "from sklearn.feature_extraction.text import CountVectorizer\n",
        "count_vectorizer = CountVectorizer()\n",
        "from scipy.spatial.distance import cosine"
      ],
      "metadata": {
        "id": "vG_QEsWXmOHg"
      },
      "execution_count": null,
      "outputs": []
    },
    {
      "cell_type": "code",
      "execution_count": null,
      "metadata": {
        "id": "ch68XW05kT_T",
        "outputId": "02ca4beb-4922-4924-9e44-a0c8e4cd3ec2"
      },
      "outputs": [
        {
          "name": "stdout",
          "output_type": "stream",
          "text": [
            "   100  100m  12  120  15  1500m  16  19  1998  200  ...  win  winning  wins  \\\n",
            "0    2     0   2    1   0      0   0   1     0    0  ...    0        0     0   \n",
            "1    0     1   0    0   1      2   1   0     1    1  ...    3        1     1   \n",
            "\n",
            "   with  women  won  world  year  years  yet  \n",
            "0     7      0    0      0     6      1    0  \n",
            "1    10      4    6      3     1      0    1  \n",
            "\n",
            "[2 rows x 414 columns]\n",
            "Similarity between these two paragraphs is  0.6852556785505336\n"
          ]
        }
      ],
      "source": [
        "dtm= count_vectorizer.fit_transform([data['text1'][0],data['text2'][0]])\n",
        "print(pd.DataFrame(data=dtm.toarray(), columns=count_vectorizer.get_feature_names()))\n",
        "val=1-cosine(dtm[0].toarray(),dtm[1].toarray())\n",
        "print(\"Similarity between these two paragraphs is \",val)"
      ]
    },
    {
      "cell_type": "markdown",
      "metadata": {
        "id": "oaJM_2sfkT_U"
      },
      "source": [
        "### Calculating similarity and storing in the dataset "
      ]
    },
    {
      "cell_type": "code",
      "execution_count": null,
      "metadata": {
        "colab": {
          "base_uri": "https://localhost:8080/",
          "height": 435
        },
        "id": "y3vmc5TQLlSQ",
        "outputId": "9c2a5a60-8af0-4874-b4d9-2931f5b42507"
      },
      "outputs": [
        {
          "data": {
            "text/html": [
              "<div>\n",
              "<style scoped>\n",
              "    .dataframe tbody tr th:only-of-type {\n",
              "        vertical-align: middle;\n",
              "    }\n",
              "\n",
              "    .dataframe tbody tr th {\n",
              "        vertical-align: top;\n",
              "    }\n",
              "\n",
              "    .dataframe thead th {\n",
              "        text-align: right;\n",
              "    }\n",
              "</style>\n",
              "<table border=\"1\" class=\"dataframe\">\n",
              "  <thead>\n",
              "    <tr style=\"text-align: right;\">\n",
              "      <th></th>\n",
              "      <th>text1</th>\n",
              "      <th>text2</th>\n",
              "      <th>similarity count</th>\n",
              "    </tr>\n",
              "  </thead>\n",
              "  <tbody>\n",
              "    <tr>\n",
              "      <th>0</th>\n",
              "      <td>broadband challenges tv viewing the number of ...</td>\n",
              "      <td>gardener wins double in glasgow britain s jaso...</td>\n",
              "      <td>0.685256</td>\n",
              "    </tr>\n",
              "    <tr>\n",
              "      <th>1</th>\n",
              "      <td>rap boss arrested over drug find rap mogul mar...</td>\n",
              "      <td>amnesty chief laments war failure the lack of ...</td>\n",
              "      <td>0.431582</td>\n",
              "    </tr>\n",
              "    <tr>\n",
              "      <th>2</th>\n",
              "      <td>player burn-out worries robinson england coach...</td>\n",
              "      <td>hanks greeted at wintry premiere hollywood sta...</td>\n",
              "      <td>0.564167</td>\n",
              "    </tr>\n",
              "    <tr>\n",
              "      <th>3</th>\n",
              "      <td>hearts of oak 3-2 cotonsport hearts of oak set...</td>\n",
              "      <td>redford s vision of sundance despite sporting ...</td>\n",
              "      <td>0.665098</td>\n",
              "    </tr>\n",
              "    <tr>\n",
              "      <th>4</th>\n",
              "      <td>sir paul rocks super bowl crowds sir paul mcca...</td>\n",
              "      <td>mauresmo opens with victory in la amelie maure...</td>\n",
              "      <td>0.556794</td>\n",
              "    </tr>\n",
              "  </tbody>\n",
              "</table>\n",
              "</div>"
            ],
            "text/plain": [
              "                                               text1  \\\n",
              "0  broadband challenges tv viewing the number of ...   \n",
              "1  rap boss arrested over drug find rap mogul mar...   \n",
              "2  player burn-out worries robinson england coach...   \n",
              "3  hearts of oak 3-2 cotonsport hearts of oak set...   \n",
              "4  sir paul rocks super bowl crowds sir paul mcca...   \n",
              "\n",
              "                                               text2  similarity count  \n",
              "0  gardener wins double in glasgow britain s jaso...          0.685256  \n",
              "1  amnesty chief laments war failure the lack of ...          0.431582  \n",
              "2  hanks greeted at wintry premiere hollywood sta...          0.564167  \n",
              "3  redford s vision of sundance despite sporting ...          0.665098  \n",
              "4  mauresmo opens with victory in la amelie maure...          0.556794  "
            ]
          },
          "execution_count": 3,
          "metadata": {},
          "output_type": "execute_result"
        }
      ],
      "source": [
        "\n",
        "sim=[]\n",
        "for ans in range(len(data)):\n",
        "    dtm= count_vectorizer.fit_transform([data['text1'][ans],data['text2'][ans]])\n",
        "    pd.DataFrame(data=dtm.toarray(), columns=count_vectorizer.get_feature_names())\n",
        "    sim.append(1-cosine(dtm[0].toarray(),dtm[1].toarray()))\n",
        "    \n",
        "data['similarity count']=sim\n",
        "data.head()"
      ]
    },
    {
      "cell_type": "code",
      "execution_count": null,
      "metadata": {
        "id": "4K1Nul6tW5FS"
      },
      "outputs": [],
      "source": [
        "data1 = pd.read_csv('Precily_Text_Similarity.csv')"
      ]
    },
    {
      "cell_type": "code",
      "execution_count": null,
      "metadata": {
        "id": "PD_qiKvyTynD",
        "outputId": "e244d989-6944-4c4f-f9d6-6a5e0d8e022a"
      },
      "outputs": [
        {
          "data": {
            "text/html": [
              "<div>\n",
              "<style scoped>\n",
              "    .dataframe tbody tr th:only-of-type {\n",
              "        vertical-align: middle;\n",
              "    }\n",
              "\n",
              "    .dataframe tbody tr th {\n",
              "        vertical-align: top;\n",
              "    }\n",
              "\n",
              "    .dataframe thead th {\n",
              "        text-align: right;\n",
              "    }\n",
              "</style>\n",
              "<table border=\"1\" class=\"dataframe\">\n",
              "  <thead>\n",
              "    <tr style=\"text-align: right;\">\n",
              "      <th></th>\n",
              "      <th>text1</th>\n",
              "      <th>text2</th>\n",
              "      <th>TIDF similarity count</th>\n",
              "    </tr>\n",
              "  </thead>\n",
              "  <tbody>\n",
              "    <tr>\n",
              "      <th>0</th>\n",
              "      <td>broadband challenges tv viewing the number of ...</td>\n",
              "      <td>gardener wins double in glasgow britain s jaso...</td>\n",
              "      <td>0.551968</td>\n",
              "    </tr>\n",
              "    <tr>\n",
              "      <th>1</th>\n",
              "      <td>rap boss arrested over drug find rap mogul mar...</td>\n",
              "      <td>amnesty chief laments war failure the lack of ...</td>\n",
              "      <td>0.312518</td>\n",
              "    </tr>\n",
              "    <tr>\n",
              "      <th>2</th>\n",
              "      <td>player burn-out worries robinson england coach...</td>\n",
              "      <td>hanks greeted at wintry premiere hollywood sta...</td>\n",
              "      <td>0.408212</td>\n",
              "    </tr>\n",
              "    <tr>\n",
              "      <th>3</th>\n",
              "      <td>hearts of oak 3-2 cotonsport hearts of oak set...</td>\n",
              "      <td>redford s vision of sundance despite sporting ...</td>\n",
              "      <td>0.530670</td>\n",
              "    </tr>\n",
              "    <tr>\n",
              "      <th>4</th>\n",
              "      <td>sir paul rocks super bowl crowds sir paul mcca...</td>\n",
              "      <td>mauresmo opens with victory in la amelie maure...</td>\n",
              "      <td>0.424369</td>\n",
              "    </tr>\n",
              "  </tbody>\n",
              "</table>\n",
              "</div>"
            ],
            "text/plain": [
              "                                               text1  \\\n",
              "0  broadband challenges tv viewing the number of ...   \n",
              "1  rap boss arrested over drug find rap mogul mar...   \n",
              "2  player burn-out worries robinson england coach...   \n",
              "3  hearts of oak 3-2 cotonsport hearts of oak set...   \n",
              "4  sir paul rocks super bowl crowds sir paul mcca...   \n",
              "\n",
              "                                               text2  TIDF similarity count  \n",
              "0  gardener wins double in glasgow britain s jaso...               0.551968  \n",
              "1  amnesty chief laments war failure the lack of ...               0.312518  \n",
              "2  hanks greeted at wintry premiere hollywood sta...               0.408212  \n",
              "3  redford s vision of sundance despite sporting ...               0.530670  \n",
              "4  mauresmo opens with victory in la amelie maure...               0.424369  "
            ]
          },
          "execution_count": 15,
          "metadata": {},
          "output_type": "execute_result"
        }
      ],
      "source": [
        "from sklearn.feature_extraction.text import TfidfVectorizer\n",
        "# import pandas as pd\n",
        "# sent1 = \"India is a republic country. We are proud Indians.\"\n",
        "# sent2 = \"The current Prime Minister of India is Shri. Narendra Modi.\"\n",
        "tfidf_vectorizer = TfidfVectorizer()\n",
        "sim1=[]\n",
        "for ans in range(len(data)):\n",
        "    tfidf_vectors= tfidf_vectorizer.fit_transform([data['text1'][ans],data['text2'][ans]])\n",
        "    pd.DataFrame(data=tfidf_vectors.toarray(),columns=tfidf_vectorizer.get_feature_names())\n",
        "    sim1.append(1-cosine(tfidf_vectors[0].toarray(),tfidf_vectors[1].toarray()))\n",
        "\n",
        "data1['TIDF similarity count']=sim1\n",
        "data1.head()"
      ]
    },
    {
      "cell_type": "code",
      "execution_count": null,
      "metadata": {
        "id": "r-YHPbsHkT_W"
      },
      "outputs": [],
      "source": [
        ""
      ]
    }
  ],
  "metadata": {
    "colab": {
      "collapsed_sections": [],
      "name": "Precilynew.ipynb",
      "provenance": [],
      "include_colab_link": true
    },
    "kernelspec": {
      "display_name": "Python 3",
      "language": "python",
      "name": "python3"
    },
    "language_info": {
      "codemirror_mode": {
        "name": "ipython",
        "version": 3
      },
      "file_extension": ".py",
      "mimetype": "text/x-python",
      "name": "python",
      "nbconvert_exporter": "python",
      "pygments_lexer": "ipython3",
      "version": "3.8.8"
    }
  },
  "nbformat": 4,
  "nbformat_minor": 0
}